{
 "cells": [
  {
   "cell_type": "markdown",
   "id": "a4b3ec36",
   "metadata": {},
   "source": []
  },
  {
   "cell_type": "markdown",
   "id": "83040ee9",
   "metadata": {},
   "source": [
    "## Label Propogation for Community Detection\n",
    "\n",
    "Consider a undirected & not weighted simple graph"
   ]
  },
  {
   "cell_type": "code",
   "execution_count": 1,
   "id": "c2b06e48",
   "metadata": {},
   "outputs": [],
   "source": [
    "import networkx as nx\n",
    "import numpy as np\n",
    "import matplotlib.pyplot as plt\n",
    "from scipy import sparse"
   ]
  },
  {
   "cell_type": "code",
   "execution_count": 2,
   "id": "59a7d00c",
   "metadata": {},
   "outputs": [
    {
     "data": {
      "image/png": "[encoded data removed]",
      "text/plain": [
       "<Figure size 432x288 with 1 Axes>"
      ]
     },
     "metadata": {},
     "output_type": "display_data"
    }
   ],
   "source": [
    "G = nx.Graph()\n",
    "G.add_edges_from([[1,2], [2,3], [1,3], [4,5], [1,5], [3,5],\n",
    "                  [6,7], [7,8], [8,9], [6,9], [6,8], [7,9],\n",
    "                  [10,11], [11,12], [10,12],\n",
    "                  [9,12], [2,7]])\n",
    "nx.draw_networkx(G, with_labels=True, node_color='pink')"
   ]
  },
  {
   "cell_type": "code",
   "execution_count": 3,
   "id": "92e17948",
   "metadata": {},
   "outputs": [
    {
     "name": "stderr",
     "output_type": "stream",
     "text": [
      "/Users/liuxiwen/opt/anaconda3/lib/python3.8/site-packages/scipy/sparse/_index.py:103: SparseEfficiencyWarning: Changing the sparsity structure of a csr_matrix is expensive. lil_matrix is more efficient.\n",
      "  self._set_intXint(row, col, x.flat[0])\n"
     ]
    },
    {
     "data": {
      "text/plain": [
       "array([[0, 1, 1, 0, 1, 0, 0, 0, 0, 0, 0, 0],\n",
       "       [1, 0, 1, 0, 0, 0, 1, 0, 0, 0, 0, 0],\n",
       "       [1, 1, 0, 0, 1, 0, 0, 0, 0, 0, 0, 0],\n",
       "       [0, 0, 0, 0, 1, 0, 0, 0, 0, 0, 0, 0],\n",
       "       [1, 0, 1, 1, 0, 0, 0, 0, 0, 0, 0, 0],\n",
       "       [0, 0, 0, 0, 0, 0, 1, 1, 1, 0, 0, 0],\n",
       "       [0, 1, 0, 0, 0, 1, 0, 1, 1, 0, 0, 0],\n",
       "       [0, 0, 0, 0, 0, 1, 1, 0, 1, 0, 0, 0],\n",
       "       [0, 0, 0, 0, 0, 1, 1, 1, 0, 0, 0, 1],\n",
       "       [0, 0, 0, 0, 0, 0, 0, 0, 0, 0, 1, 1],\n",
       "       [0, 0, 0, 0, 0, 0, 0, 0, 0, 1, 0, 1],\n",
       "       [0, 0, 0, 0, 0, 0, 0, 0, 1, 1, 1, 0]], dtype=int8)"
      ]
     },
     "execution_count": 3,
     "metadata": {},
     "output_type": "execute_result"
    }
   ],
   "source": [
    "# Compute the number of nodes in the graph\n",
    "edges = [[1,2], [2,3], [1,3], [4,5], [1,5], [3,5],\n",
    "         [6,7], [7,8], [8,9], [6,9], [6,8], [7,9],\n",
    "         [10,11], [11,12], [10,12], [9,12], [2,7]]\n",
    "n_nodes = max(max(edge) for edge in edges)\n",
    "\n",
    "# Create an empty adjacency matrix\n",
    "A_m = sparse.csr_matrix((n_nodes, n_nodes), dtype=np.int8)\n",
    "\n",
    "# Fill in the adjacency matrix\n",
    "for edge in edges:\n",
    "    i, j = edge\n",
    "    A_m[i-1, j-1] = 1\n",
    "    A_m[j-1, i-1] = 1\n",
    "\n",
    "# Print the adjacency matrix\n",
    "A = A_m.toarray()\n",
    "A"
   ]
  },
  {
   "cell_type": "code",
   "execution_count": 4,
   "id": "030be6d9",
   "metadata": {},
   "outputs": [
    {
     "name": "stderr",
     "output_type": "stream",
     "text": [
      "/Users/liuxiwen/opt/anaconda3/lib/python3.8/site-packages/scipy/sparse/linalg/_dsolve/linsolve.py:214: SparseEfficiencyWarning: spsolve requires A be CSC or CSR matrix format\n",
      "  warn('spsolve requires A be CSC or CSR matrix format',\n",
      "/Users/liuxiwen/opt/anaconda3/lib/python3.8/site-packages/scipy/sparse/linalg/_dsolve/linsolve.py:285: SparseEfficiencyWarning: spsolve is more efficient when sparse b is in the CSC matrix format\n",
      "  warn('spsolve is more efficient when sparse b '\n"
     ]
    },
    {
     "data": {
      "text/plain": [
       "array([[0.        , 0.33333333, 0.33333333, 0.        , 0.33333333,\n",
       "        0.        , 0.        , 0.        , 0.        , 0.        ,\n",
       "        0.        , 0.        ],\n",
       "       [0.33333333, 0.        , 0.33333333, 0.        , 0.        ,\n",
       "        0.        , 0.33333333, 0.        , 0.        , 0.        ,\n",
       "        0.        , 0.        ],\n",
       "       [0.33333333, 0.33333333, 0.        , 0.        , 0.33333333,\n",
       "        0.        , 0.        , 0.        , 0.        , 0.        ,\n",
       "        0.        , 0.        ],\n",
       "       [0.        , 0.        , 0.        , 0.        , 1.        ,\n",
       "        0.        , 0.        , 0.        , 0.        , 0.        ,\n",
       "        0.        , 0.        ],\n",
       "       [0.33333333, 0.        , 0.33333333, 0.33333333, 0.        ,\n",
       "        0.        , 0.        , 0.        , 0.        , 0.        ,\n",
       "        0.        , 0.        ],\n",
       "       [0.        , 0.        , 0.        , 0.        , 0.        ,\n",
       "        0.        , 0.33333333, 0.33333333, 0.33333333, 0.        ,\n",
       "        0.        , 0.        ],\n",
       "       [0.        , 0.25      , 0.        , 0.        , 0.        ,\n",
       "        0.25      , 0.        , 0.25      , 0.25      , 0.        ,\n",
       "        0.        , 0.        ],\n",
       "       [0.        , 0.        , 0.        , 0.        , 0.        ,\n",
       "        0.33333333, 0.33333333, 0.        , 0.33333333, 0.        ,\n",
       "        0.        , 0.        ],\n",
       "       [0.        , 0.        , 0.        , 0.        , 0.        ,\n",
       "        0.25      , 0.25      , 0.25      , 0.        , 0.        ,\n",
       "        0.        , 0.25      ],\n",
       "       [0.        , 0.        , 0.        , 0.        , 0.        ,\n",
       "        0.        , 0.        , 0.        , 0.        , 0.        ,\n",
       "        0.5       , 0.5       ],\n",
       "       [0.        , 0.        , 0.        , 0.        , 0.        ,\n",
       "        0.        , 0.        , 0.        , 0.        , 0.5       ,\n",
       "        0.        , 0.5       ],\n",
       "       [0.        , 0.        , 0.        , 0.        , 0.        ,\n",
       "        0.        , 0.        , 0.        , 0.33333333, 0.33333333,\n",
       "        0.33333333, 0.        ]])"
      ]
     },
     "execution_count": 4,
     "metadata": {},
     "output_type": "execute_result"
    }
   ],
   "source": [
    "# Define the transition matrix T\n",
    "D = sparse.diags(np.ravel(np.sum(A, axis=1)))\n",
    "T = sparse.linalg.inv(D) * A\n",
    "T"
   ]
  },
  {
   "cell_type": "code",
   "execution_count": 10,
   "id": "aa0d942b",
   "metadata": {},
   "outputs": [],
   "source": [
    "import sys\n",
    "\n",
    "def LabelPropagation(T, Y, diff, max_iter, labelled):\n",
    "    \n",
    "    # Initialize\n",
    "    Y_init = Y\n",
    "    Y1 = Y\n",
    "    \n",
    "    # Initialize convergence parameters\n",
    "    n = 0\n",
    "    current_diff = sys.maxsize\n",
    "    \n",
    "    # Iterate till difference reduces below diff or till the maximum number of iterations is reached\n",
    "    while current_diff > diff and n < max_iter:\n",
    "        \n",
    "        current_diff = 0.0\n",
    "        # Set Y(t)\n",
    "        Y0 = Y1\n",
    "        \n",
    "        # Calculate Y(t+1)\n",
    "        Y1 = T.dot(Y0)\n",
    "        \n",
    "        # Clamp labelled data\n",
    "        for i in range(Y_init.shape[0]):\n",
    "            if i in labelled:\n",
    "                Y1.A[i] = Y_init.A[i]\n",
    "        \n",
    "        # Get difference between values of Y(t+1) and Y(t)\n",
    "        for i in range(Y1.shape[0]):\n",
    "            for j in range(Y1.shape[1]):\n",
    "                current_diff += abs(Y1.A[i][j] - Y0.A[i][j])\n",
    "        \n",
    "        n += 1\n",
    "        \n",
    "    return Y1"
   ]
  },
  {
   "cell_type": "code",
   "execution_count": 19,
   "id": "133a68c4",
   "metadata": {},
   "outputs": [
    {
     "data": {
      "text/plain": [
       "matrix([[0, 1, 1, 0, 1, 0, 0, 0, 0, 0, 0, 0],\n",
       "        [1, 0, 1, 0, 0, 0, 1, 0, 0, 0, 0, 0],\n",
       "        [1, 1, 0, 0, 1, 0, 0, 0, 0, 0, 0, 0],\n",
       "        [0, 0, 0, 0, 1, 0, 0, 0, 0, 0, 0, 0],\n",
       "        [1, 0, 1, 1, 0, 0, 0, 0, 0, 0, 0, 0],\n",
       "        [0, 0, 0, 0, 0, 0, 1, 1, 1, 0, 0, 0],\n",
       "        [0, 1, 0, 0, 0, 1, 0, 1, 1, 0, 0, 0],\n",
       "        [0, 0, 0, 0, 0, 1, 1, 0, 1, 0, 0, 0],\n",
       "        [0, 0, 0, 0, 0, 1, 1, 1, 0, 0, 0, 1],\n",
       "        [0, 0, 0, 0, 0, 0, 0, 0, 0, 0, 1, 1],\n",
       "        [0, 0, 0, 0, 0, 0, 0, 0, 0, 1, 0, 1],\n",
       "        [0, 0, 0, 0, 0, 0, 0, 0, 1, 1, 1, 0]], dtype=int8)"
      ]
     },
     "execution_count": 19,
     "metadata": {},
     "output_type": "execute_result"
    }
   ],
   "source": [
    "# Run the LabelPropagation algorithm\n",
    "Y=np.matrix(A)\n",
    "Y"
   ]
  },
  {
   "cell_type": "code",
   "execution_count": 30,
   "id": "beabbb90",
   "metadata": {},
   "outputs": [],
   "source": [
    "original_colors = {3: 0, 5: 1, 10:2}\n",
    "labelled = list(original_colors.keys())"
   ]
  },
  {
   "cell_type": "code",
   "execution_count": 31,
   "id": "a665d436",
   "metadata": {
    "scrolled": true
   },
   "outputs": [
    {
     "data": {
      "text/plain": [
       "matrix([[ 4],\n",
       "        [ 6],\n",
       "        [ 4],\n",
       "        [ 4],\n",
       "        [ 4],\n",
       "        [ 6],\n",
       "        [ 6],\n",
       "        [ 6],\n",
       "        [ 6],\n",
       "        [11],\n",
       "        [ 9],\n",
       "        [11]])"
      ]
     },
     "execution_count": 31,
     "metadata": {},
     "output_type": "execute_result"
    }
   ],
   "source": [
    "Y_1 = LabelPropagation(T, Y, diff=0.01, max_iter=100, labelled=labelled)\n",
    "Y_1\n",
    "Y_1.argmax(1)"
   ]
  },
  {
   "cell_type": "code",
   "execution_count": 32,
   "id": "be68d55e",
   "metadata": {},
   "outputs": [
    {
     "data": {
      "image/png": "[encoded data removed]",
      "text/plain": [
       "<Figure size 432x288 with 1 Axes>"
      ]
     },
     "metadata": {},
     "output_type": "display_data"
    }
   ],
   "source": [
    "# Define the label matrix\n",
    "label_matrix = np.array(Y_1.argmax(1))\n",
    "\n",
    "# Color the nodes based on the label matrix\n",
    "node_colors = [label_matrix[i][0] for i in range(len(label_matrix))]\n",
    "\n",
    "\n",
    "# Compute node positions using the spring layout\n",
    "pos = nx.spring_layout(G)\n",
    "\n",
    "# Draw the graph\n",
    "nx.draw_networkx_nodes(G, pos, node_size=500, node_color=node_colors, cmap=plt.cm.tab10)\n",
    "nx.draw_networkx_edges(G, pos)\n",
    "nx.draw_networkx_labels(G, pos, font_color='white')\n",
    "plt.axis('off')\n",
    "plt.show()"
   ]
  },
  {
   "cell_type": "code",
   "execution_count": null,
   "id": "3438a3b2",
   "metadata": {},
   "outputs": [],
   "source": []
  }
 ],
 "metadata": {
  "kernelspec": {
   "display_name": "Python 3 (ipykernel)",
   "language": "python",
   "name": "python3"
  },
  "language_info": {
   "codemirror_mode": {
    "name": "ipython",
    "version": 3
   },
   "file_extension": ".py",
   "mimetype": "text/x-python",
   "name": "python",
   "nbconvert_exporter": "python",
   "pygments_lexer": "ipython3",
   "version": "3.10.8"
  }
 },
 "nbformat": 4,
 "nbformat_minor": 5
}
